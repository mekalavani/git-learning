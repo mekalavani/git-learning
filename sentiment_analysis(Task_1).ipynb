{
  "nbformat": 4,
  "nbformat_minor": 0,
  "metadata": {
    "colab": {
      "provenance": []
    },
    "kernelspec": {
      "name": "python3",
      "display_name": "Python 3"
    },
    "language_info": {
      "name": "python"
    }
  },
  "cells": [
    {
      "cell_type": "code",
      "execution_count": 1,
      "metadata": {
        "colab": {
          "base_uri": "https://localhost:8080/"
        },
        "id": "RoNT9LsiImqz",
        "outputId": "a0c9c3e9-2407-4964-d3e9-906adc895375"
      },
      "outputs": [
        {
          "output_type": "stream",
          "name": "stderr",
          "text": [
            "[nltk_data] Downloading package punkt to /root/nltk_data...\n",
            "[nltk_data]   Unzipping tokenizers/punkt.zip.\n"
          ]
        },
        {
          "output_type": "execute_result",
          "data": {
            "text/plain": [
              "True"
            ]
          },
          "metadata": {},
          "execution_count": 1
        }
      ],
      "source": [
        "import nltk\n",
        "from nltk.tokenize import word_tokenize\n",
        "nltk.download('punkt')"
      ]
    },
    {
      "cell_type": "code",
      "source": [
        "positive_words = [\"pleasurable\", \"satisfying\", \"glorious\", \"uplifting\", \"joy\", \"good\", \"great\", \"happy\", \"excellent\", \"positive\", \"awesome\", \"amazing\", \"like\", \"fantastic\", \"love\", \"wonderful\", \"joyful\", \"delightful\"]\n",
        "negative_words = [\"bad\", \"negative\", \"hate\", \"disappointing\", \"terrible\", \"horrible\", \"awful\", \"tragic\", \"gloomy\", \"unfortunate\", \"unpleasant\", \"disgusting\", \"poor\", \"miserable\", \"depressing\", \"dreadful\", \"grim\"]\n",
        "negation_words = [\"not\", \"isn't\", \"aren't\", \"wasn't\", \"weren't\" , \"haven't\", \"hasn't\", \"hadn't\", \"don't\", \"no\", \"never\", \"none\", \"neither\", \"nor\", \"cannot\", \"couldn't\", \"won't\", \"don't\"]\n"
      ],
      "metadata": {
        "id": "Q1QoDqayJ6QU"
      },
      "execution_count": 2,
      "outputs": []
    },
    {
      "cell_type": "code",
      "source": [
        "def analyze_sentiment(text):\n",
        "    tokens = word_tokenize(text)\n",
        "    compound_score = 0\n",
        "    counter = 0\n",
        "\n",
        "    for token in tokens:\n",
        "        if token.lower() in positive_words:\n",
        "            if counter == 1:\n",
        "                compound_score -= 1\n",
        "                counter = 0\n",
        "            else:\n",
        "                compound_score += 1\n",
        "        elif token.lower() in negative_words:\n",
        "            if counter == 1:\n",
        "                compound_score += 1\n",
        "                counter = 0\n",
        "            else:\n",
        "                compound_score -= 1\n",
        "        elif token.lower() in negation_words:\n",
        "            counter = 1\n",
        "\n",
        "    return compound_score"
      ],
      "metadata": {
        "id": "hA5LeeFKKG7C"
      },
      "execution_count": 3,
      "outputs": []
    },
    {
      "cell_type": "code",
      "source": [
        "def sentiment_analysis(score):\n",
        "\n",
        "    if score > 0:\n",
        "        return \"Positive Sentiment\"\n",
        "    elif score == 0:\n",
        "        return \"Neutral Sentiment\"\n",
        "    else:\n",
        "        return \"Negative Sentiment\""
      ],
      "metadata": {
        "id": "fGMWI6-yKV41"
      },
      "execution_count": 4,
      "outputs": []
    },
    {
      "cell_type": "code",
      "source": [
        "\n",
        "input_text = input(\"Enter the text: \")\n",
        "score = analyze_sentiment(input_text)\n",
        "sentiment = sentiment_analysis(score)\n",
        "print(\"Sentiment:\", sentiment)"
      ],
      "metadata": {
        "colab": {
          "base_uri": "https://localhost:8080/"
        },
        "id": "3DqSgLOGKfwj",
        "outputId": "7117fea1-1ba1-4b1b-b77c-e662c013f0d6"
      },
      "execution_count": 5,
      "outputs": [
        {
          "output_type": "stream",
          "name": "stdout",
          "text": [
            "Enter the text: This is good girl\n",
            "Sentiment: Positive Sentiment\n"
          ]
        }
      ]
    }
  ]
}